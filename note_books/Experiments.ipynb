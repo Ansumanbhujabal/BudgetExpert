{
 "cells": [
  {
   "cell_type": "code",
   "execution_count": 1,
   "id": "daaea020",
   "metadata": {},
   "outputs": [
    {
     "name": "stdout",
     "output_type": "stream",
     "text": [
      "Requirement already satisfied: pinecone in /system/conda/miniconda3/envs/cloudspace/lib/python3.10/site-packages (5.3.1)\n",
      "Requirement already satisfied: certifi>=2019.11.17 in /system/conda/miniconda3/envs/cloudspace/lib/python3.10/site-packages (from pinecone) (2024.8.30)\n",
      "Requirement already satisfied: pinecone-plugin-inference<2.0.0,>=1.1.0 in /system/conda/miniconda3/envs/cloudspace/lib/python3.10/site-packages (from pinecone) (1.1.0)\n",
      "Requirement already satisfied: pinecone-plugin-interface<0.0.8,>=0.0.7 in /system/conda/miniconda3/envs/cloudspace/lib/python3.10/site-packages (from pinecone) (0.0.7)\n",
      "Requirement already satisfied: python-dateutil>=2.5.3 in /system/conda/miniconda3/envs/cloudspace/lib/python3.10/site-packages (from pinecone) (2.8.2)\n",
      "Requirement already satisfied: tqdm>=4.64.1 in /system/conda/miniconda3/envs/cloudspace/lib/python3.10/site-packages (from pinecone) (4.66.5)\n",
      "Requirement already satisfied: typing-extensions>=3.7.4 in /system/conda/miniconda3/envs/cloudspace/lib/python3.10/site-packages (from pinecone) (4.12.2)\n",
      "Requirement already satisfied: urllib3>=1.26.0 in /system/conda/miniconda3/envs/cloudspace/lib/python3.10/site-packages (from pinecone) (2.2.2)\n",
      "Requirement already satisfied: six>=1.5 in /system/conda/miniconda3/envs/cloudspace/lib/python3.10/site-packages (from python-dateutil>=2.5.3->pinecone) (1.16.0)\n",
      "Requirement already satisfied: langchain-pinecone in /system/conda/miniconda3/envs/cloudspace/lib/python3.10/site-packages (0.2.0)\n",
      "Requirement already satisfied: aiohttp<3.10,>=3.9.5 in /system/conda/miniconda3/envs/cloudspace/lib/python3.10/site-packages (from langchain-pinecone) (3.9.5)\n",
      "Collecting langchain-core<0.4,>=0.3 (from langchain-pinecone)\n",
      "  Using cached langchain_core-0.3.25-py3-none-any.whl.metadata (6.3 kB)\n",
      "Requirement already satisfied: numpy<2,>=1 in /system/conda/miniconda3/envs/cloudspace/lib/python3.10/site-packages (from langchain-pinecone) (1.26.4)\n",
      "Requirement already satisfied: pinecone-client<6.0.0,>=5.0.0 in /system/conda/miniconda3/envs/cloudspace/lib/python3.10/site-packages (from langchain-pinecone) (5.0.1)\n",
      "Requirement already satisfied: aiosignal>=1.1.2 in /system/conda/miniconda3/envs/cloudspace/lib/python3.10/site-packages (from aiohttp<3.10,>=3.9.5->langchain-pinecone) (1.3.1)\n",
      "Requirement already satisfied: attrs>=17.3.0 in /system/conda/miniconda3/envs/cloudspace/lib/python3.10/site-packages (from aiohttp<3.10,>=3.9.5->langchain-pinecone) (24.2.0)\n",
      "Requirement already satisfied: frozenlist>=1.1.1 in /system/conda/miniconda3/envs/cloudspace/lib/python3.10/site-packages (from aiohttp<3.10,>=3.9.5->langchain-pinecone) (1.4.1)\n",
      "Requirement already satisfied: multidict<7.0,>=4.5 in /system/conda/miniconda3/envs/cloudspace/lib/python3.10/site-packages (from aiohttp<3.10,>=3.9.5->langchain-pinecone) (6.0.5)\n",
      "Requirement already satisfied: yarl<2.0,>=1.0 in /system/conda/miniconda3/envs/cloudspace/lib/python3.10/site-packages (from aiohttp<3.10,>=3.9.5->langchain-pinecone) (1.9.11)\n",
      "Requirement already satisfied: async-timeout<5.0,>=4.0 in /system/conda/miniconda3/envs/cloudspace/lib/python3.10/site-packages (from aiohttp<3.10,>=3.9.5->langchain-pinecone) (4.0.3)\n",
      "Requirement already satisfied: PyYAML>=5.3 in /system/conda/miniconda3/envs/cloudspace/lib/python3.10/site-packages (from langchain-core<0.4,>=0.3->langchain-pinecone) (6.0.2)\n",
      "Requirement already satisfied: jsonpatch<2.0,>=1.33 in /system/conda/miniconda3/envs/cloudspace/lib/python3.10/site-packages (from langchain-core<0.4,>=0.3->langchain-pinecone) (1.33)\n",
      "Requirement already satisfied: langsmith<0.3,>=0.1.125 in /system/conda/miniconda3/envs/cloudspace/lib/python3.10/site-packages (from langchain-core<0.4,>=0.3->langchain-pinecone) (0.1.137)\n",
      "Requirement already satisfied: packaging<25,>=23.2 in /system/conda/miniconda3/envs/cloudspace/lib/python3.10/site-packages (from langchain-core<0.4,>=0.3->langchain-pinecone) (24.1)\n",
      "Requirement already satisfied: pydantic<3.0.0,>=2.5.2 in /system/conda/miniconda3/envs/cloudspace/lib/python3.10/site-packages (from langchain-core<0.4,>=0.3->langchain-pinecone) (2.9.2)\n",
      "Requirement already satisfied: tenacity!=8.4.0,<10.0.0,>=8.1.0 in /system/conda/miniconda3/envs/cloudspace/lib/python3.10/site-packages (from langchain-core<0.4,>=0.3->langchain-pinecone) (8.5.0)\n",
      "Requirement already satisfied: typing-extensions>=4.7 in /system/conda/miniconda3/envs/cloudspace/lib/python3.10/site-packages (from langchain-core<0.4,>=0.3->langchain-pinecone) (4.12.2)\n",
      "Requirement already satisfied: certifi>=2019.11.17 in /system/conda/miniconda3/envs/cloudspace/lib/python3.10/site-packages (from pinecone-client<6.0.0,>=5.0.0->langchain-pinecone) (2024.8.30)\n",
      "Requirement already satisfied: pinecone-plugin-inference<2.0.0,>=1.0.3 in /system/conda/miniconda3/envs/cloudspace/lib/python3.10/site-packages (from pinecone-client<6.0.0,>=5.0.0->langchain-pinecone) (1.1.0)\n",
      "Requirement already satisfied: pinecone-plugin-interface<0.0.8,>=0.0.7 in /system/conda/miniconda3/envs/cloudspace/lib/python3.10/site-packages (from pinecone-client<6.0.0,>=5.0.0->langchain-pinecone) (0.0.7)\n",
      "Requirement already satisfied: tqdm>=4.64.1 in /system/conda/miniconda3/envs/cloudspace/lib/python3.10/site-packages (from pinecone-client<6.0.0,>=5.0.0->langchain-pinecone) (4.66.5)\n",
      "Requirement already satisfied: urllib3>=1.26.0 in /system/conda/miniconda3/envs/cloudspace/lib/python3.10/site-packages (from pinecone-client<6.0.0,>=5.0.0->langchain-pinecone) (2.2.2)\n",
      "Requirement already satisfied: jsonpointer>=1.9 in /system/conda/miniconda3/envs/cloudspace/lib/python3.10/site-packages (from jsonpatch<2.0,>=1.33->langchain-core<0.4,>=0.3->langchain-pinecone) (3.0.0)\n",
      "Requirement already satisfied: httpx<1,>=0.23.0 in /system/conda/miniconda3/envs/cloudspace/lib/python3.10/site-packages (from langsmith<0.3,>=0.1.125->langchain-core<0.4,>=0.3->langchain-pinecone) (0.27.2)\n",
      "Requirement already satisfied: orjson<4.0.0,>=3.9.14 in /system/conda/miniconda3/envs/cloudspace/lib/python3.10/site-packages (from langsmith<0.3,>=0.1.125->langchain-core<0.4,>=0.3->langchain-pinecone) (3.10.10)\n",
      "Requirement already satisfied: requests<3,>=2 in /system/conda/miniconda3/envs/cloudspace/lib/python3.10/site-packages (from langsmith<0.3,>=0.1.125->langchain-core<0.4,>=0.3->langchain-pinecone) (2.32.3)\n",
      "Requirement already satisfied: requests-toolbelt<2.0.0,>=1.0.0 in /system/conda/miniconda3/envs/cloudspace/lib/python3.10/site-packages (from langsmith<0.3,>=0.1.125->langchain-core<0.4,>=0.3->langchain-pinecone) (1.0.0)\n",
      "Requirement already satisfied: annotated-types>=0.6.0 in /system/conda/miniconda3/envs/cloudspace/lib/python3.10/site-packages (from pydantic<3.0.0,>=2.5.2->langchain-core<0.4,>=0.3->langchain-pinecone) (0.7.0)\n",
      "Requirement already satisfied: pydantic-core==2.23.4 in /system/conda/miniconda3/envs/cloudspace/lib/python3.10/site-packages (from pydantic<3.0.0,>=2.5.2->langchain-core<0.4,>=0.3->langchain-pinecone) (2.23.4)\n",
      "Requirement already satisfied: idna>=2.0 in /system/conda/miniconda3/envs/cloudspace/lib/python3.10/site-packages (from yarl<2.0,>=1.0->aiohttp<3.10,>=3.9.5->langchain-pinecone) (3.8)\n",
      "Requirement already satisfied: anyio in /system/conda/miniconda3/envs/cloudspace/lib/python3.10/site-packages (from httpx<1,>=0.23.0->langsmith<0.3,>=0.1.125->langchain-core<0.4,>=0.3->langchain-pinecone) (4.4.0)\n",
      "Requirement already satisfied: httpcore==1.* in /system/conda/miniconda3/envs/cloudspace/lib/python3.10/site-packages (from httpx<1,>=0.23.0->langsmith<0.3,>=0.1.125->langchain-core<0.4,>=0.3->langchain-pinecone) (1.0.5)\n",
      "Requirement already satisfied: sniffio in /system/conda/miniconda3/envs/cloudspace/lib/python3.10/site-packages (from httpx<1,>=0.23.0->langsmith<0.3,>=0.1.125->langchain-core<0.4,>=0.3->langchain-pinecone) (1.3.1)\n",
      "Requirement already satisfied: h11<0.15,>=0.13 in /system/conda/miniconda3/envs/cloudspace/lib/python3.10/site-packages (from httpcore==1.*->httpx<1,>=0.23.0->langsmith<0.3,>=0.1.125->langchain-core<0.4,>=0.3->langchain-pinecone) (0.14.0)\n",
      "Requirement already satisfied: charset-normalizer<4,>=2 in /system/conda/miniconda3/envs/cloudspace/lib/python3.10/site-packages (from requests<3,>=2->langsmith<0.3,>=0.1.125->langchain-core<0.4,>=0.3->langchain-pinecone) (3.3.2)\n",
      "Requirement already satisfied: exceptiongroup>=1.0.2 in /system/conda/miniconda3/envs/cloudspace/lib/python3.10/site-packages (from anyio->httpx<1,>=0.23.0->langsmith<0.3,>=0.1.125->langchain-core<0.4,>=0.3->langchain-pinecone) (1.2.2)\n",
      "Using cached langchain_core-0.3.25-py3-none-any.whl (411 kB)\n",
      "Installing collected packages: langchain-core\n",
      "  Attempting uninstall: langchain-core\n",
      "    Found existing installation: langchain-core 0.2.43\n",
      "    Uninstalling langchain-core-0.2.43:\n",
      "      Successfully uninstalled langchain-core-0.2.43\n",
      "\u001b[31mERROR: pip's dependency resolver does not currently take into account all the packages that are installed. This behaviour is the source of the following dependency conflicts.\n",
      "langchain 0.2.17 requires langchain-core<0.3.0,>=0.2.43, but you have langchain-core 0.3.25 which is incompatible.\n",
      "langchain-community 0.2.10 requires langchain-core<0.3.0,>=0.2.23, but you have langchain-core 0.3.25 which is incompatible.\n",
      "langchain-groq 0.1.9 requires langchain-core<0.3.0,>=0.2.26, but you have langchain-core 0.3.25 which is incompatible.\n",
      "langchain-text-splitters 0.2.2 requires langchain-core<0.3.0,>=0.2.10, but you have langchain-core 0.3.25 which is incompatible.\u001b[0m\u001b[31m\n",
      "\u001b[0mSuccessfully installed langchain-core-0.3.25\n"
     ]
    }
   ],
   "source": [
    "!pip install pinecone\n",
    "!pip install langchain-pinecone"
   ]
  },
  {
   "cell_type": "code",
   "execution_count": 2,
   "id": "e54c093b",
   "metadata": {},
   "outputs": [
    {
     "name": "stdout",
     "output_type": "stream",
     "text": [
      "Requirement already satisfied: langchain_groq in /system/conda/miniconda3/envs/cloudspace/lib/python3.10/site-packages (0.1.9)\n",
      "Requirement already satisfied: groq<1,>=0.4.1 in /system/conda/miniconda3/envs/cloudspace/lib/python3.10/site-packages (from langchain_groq) (0.12.0)\n",
      "Collecting langchain-core<0.3.0,>=0.2.26 (from langchain_groq)\n",
      "  Using cached langchain_core-0.2.43-py3-none-any.whl.metadata (6.2 kB)\n",
      "Requirement already satisfied: anyio<5,>=3.5.0 in /system/conda/miniconda3/envs/cloudspace/lib/python3.10/site-packages (from groq<1,>=0.4.1->langchain_groq) (4.4.0)\n",
      "Requirement already satisfied: distro<2,>=1.7.0 in /system/conda/miniconda3/envs/cloudspace/lib/python3.10/site-packages (from groq<1,>=0.4.1->langchain_groq) (1.9.0)\n",
      "Requirement already satisfied: httpx<1,>=0.23.0 in /system/conda/miniconda3/envs/cloudspace/lib/python3.10/site-packages (from groq<1,>=0.4.1->langchain_groq) (0.27.2)\n",
      "Requirement already satisfied: pydantic<3,>=1.9.0 in /system/conda/miniconda3/envs/cloudspace/lib/python3.10/site-packages (from groq<1,>=0.4.1->langchain_groq) (2.9.2)\n",
      "Requirement already satisfied: sniffio in /system/conda/miniconda3/envs/cloudspace/lib/python3.10/site-packages (from groq<1,>=0.4.1->langchain_groq) (1.3.1)\n",
      "Requirement already satisfied: typing-extensions<5,>=4.7 in /system/conda/miniconda3/envs/cloudspace/lib/python3.10/site-packages (from groq<1,>=0.4.1->langchain_groq) (4.12.2)\n",
      "Requirement already satisfied: PyYAML>=5.3 in /system/conda/miniconda3/envs/cloudspace/lib/python3.10/site-packages (from langchain-core<0.3.0,>=0.2.26->langchain_groq) (6.0.2)\n",
      "Requirement already satisfied: jsonpatch<2.0,>=1.33 in /system/conda/miniconda3/envs/cloudspace/lib/python3.10/site-packages (from langchain-core<0.3.0,>=0.2.26->langchain_groq) (1.33)\n",
      "Requirement already satisfied: langsmith<0.2.0,>=0.1.112 in /system/conda/miniconda3/envs/cloudspace/lib/python3.10/site-packages (from langchain-core<0.3.0,>=0.2.26->langchain_groq) (0.1.137)\n",
      "Requirement already satisfied: packaging<25,>=23.2 in /system/conda/miniconda3/envs/cloudspace/lib/python3.10/site-packages (from langchain-core<0.3.0,>=0.2.26->langchain_groq) (24.1)\n",
      "Requirement already satisfied: tenacity!=8.4.0,<9.0.0,>=8.1.0 in /system/conda/miniconda3/envs/cloudspace/lib/python3.10/site-packages (from langchain-core<0.3.0,>=0.2.26->langchain_groq) (8.5.0)\n",
      "Requirement already satisfied: idna>=2.8 in /system/conda/miniconda3/envs/cloudspace/lib/python3.10/site-packages (from anyio<5,>=3.5.0->groq<1,>=0.4.1->langchain_groq) (3.8)\n",
      "Requirement already satisfied: exceptiongroup>=1.0.2 in /system/conda/miniconda3/envs/cloudspace/lib/python3.10/site-packages (from anyio<5,>=3.5.0->groq<1,>=0.4.1->langchain_groq) (1.2.2)\n",
      "Requirement already satisfied: certifi in /system/conda/miniconda3/envs/cloudspace/lib/python3.10/site-packages (from httpx<1,>=0.23.0->groq<1,>=0.4.1->langchain_groq) (2024.8.30)\n",
      "Requirement already satisfied: httpcore==1.* in /system/conda/miniconda3/envs/cloudspace/lib/python3.10/site-packages (from httpx<1,>=0.23.0->groq<1,>=0.4.1->langchain_groq) (1.0.5)\n",
      "Requirement already satisfied: h11<0.15,>=0.13 in /system/conda/miniconda3/envs/cloudspace/lib/python3.10/site-packages (from httpcore==1.*->httpx<1,>=0.23.0->groq<1,>=0.4.1->langchain_groq) (0.14.0)\n",
      "Requirement already satisfied: jsonpointer>=1.9 in /system/conda/miniconda3/envs/cloudspace/lib/python3.10/site-packages (from jsonpatch<2.0,>=1.33->langchain-core<0.3.0,>=0.2.26->langchain_groq) (3.0.0)\n",
      "Requirement already satisfied: orjson<4.0.0,>=3.9.14 in /system/conda/miniconda3/envs/cloudspace/lib/python3.10/site-packages (from langsmith<0.2.0,>=0.1.112->langchain-core<0.3.0,>=0.2.26->langchain_groq) (3.10.10)\n",
      "Requirement already satisfied: requests<3,>=2 in /system/conda/miniconda3/envs/cloudspace/lib/python3.10/site-packages (from langsmith<0.2.0,>=0.1.112->langchain-core<0.3.0,>=0.2.26->langchain_groq) (2.32.3)\n",
      "Requirement already satisfied: requests-toolbelt<2.0.0,>=1.0.0 in /system/conda/miniconda3/envs/cloudspace/lib/python3.10/site-packages (from langsmith<0.2.0,>=0.1.112->langchain-core<0.3.0,>=0.2.26->langchain_groq) (1.0.0)\n",
      "Requirement already satisfied: annotated-types>=0.6.0 in /system/conda/miniconda3/envs/cloudspace/lib/python3.10/site-packages (from pydantic<3,>=1.9.0->groq<1,>=0.4.1->langchain_groq) (0.7.0)\n",
      "Requirement already satisfied: pydantic-core==2.23.4 in /system/conda/miniconda3/envs/cloudspace/lib/python3.10/site-packages (from pydantic<3,>=1.9.0->groq<1,>=0.4.1->langchain_groq) (2.23.4)\n",
      "Requirement already satisfied: charset-normalizer<4,>=2 in /system/conda/miniconda3/envs/cloudspace/lib/python3.10/site-packages (from requests<3,>=2->langsmith<0.2.0,>=0.1.112->langchain-core<0.3.0,>=0.2.26->langchain_groq) (3.3.2)\n",
      "Requirement already satisfied: urllib3<3,>=1.21.1 in /system/conda/miniconda3/envs/cloudspace/lib/python3.10/site-packages (from requests<3,>=2->langsmith<0.2.0,>=0.1.112->langchain-core<0.3.0,>=0.2.26->langchain_groq) (2.2.2)\n",
      "Using cached langchain_core-0.2.43-py3-none-any.whl (397 kB)\n",
      "Installing collected packages: langchain-core\n",
      "  Attempting uninstall: langchain-core\n",
      "    Found existing installation: langchain-core 0.3.25\n",
      "    Uninstalling langchain-core-0.3.25:\n",
      "      Successfully uninstalled langchain-core-0.3.25\n",
      "\u001b[31mERROR: pip's dependency resolver does not currently take into account all the packages that are installed. This behaviour is the source of the following dependency conflicts.\n",
      "langchain-huggingface 0.1.2 requires langchain-core<0.4.0,>=0.3.15, but you have langchain-core 0.2.43 which is incompatible.\n",
      "langchain-pinecone 0.2.0 requires langchain-core<0.4,>=0.3, but you have langchain-core 0.2.43 which is incompatible.\u001b[0m\u001b[31m\n",
      "\u001b[0mSuccessfully installed langchain-core-0.2.43\n"
     ]
    }
   ],
   "source": [
    "!pip install langchain_groq"
   ]
  },
  {
   "cell_type": "code",
   "execution_count": 39,
   "id": "0cc09ae3-4f09-4cc5-9b2d-d5815a7e8648",
   "metadata": {},
   "outputs": [
    {
     "data": {
      "text/plain": [
       "True"
      ]
     },
     "execution_count": 39,
     "metadata": {},
     "output_type": "execute_result"
    }
   ],
   "source": [
    "import os\n",
    "import time\n",
    "from dotenv import load_dotenv\n",
    "import streamlit as st\n",
    "from langchain_community.document_loaders import PyPDFLoader\n",
    "from langchain_community.document_loaders.pdf import PyPDFDirectoryLoader\n",
    "from langchain_text_splitters.character import RecursiveCharacterTextSplitter\n",
    "from langchain_community.embeddings import HuggingFaceEmbeddings\n",
    "from langchain.memory import ConversationBufferMemory\n",
    "from langchain.chains import ConversationalRetrievalChain\n",
    "from pinecone import Pinecone\n",
    "from pinecone import ServerlessSpec\n",
    "import warnings\n",
    "warnings.filterwarnings('ignore')\n",
    "load_dotenv()\n"
   ]
  },
  {
   "cell_type": "code",
   "execution_count": 4,
   "id": "cdef49cf",
   "metadata": {},
   "outputs": [],
   "source": [
    "from langchain.chains.question_answering import load_qa_chain\n",
    "from langchain_pinecone import PineconeVectorStore\n",
    "from langchain_groq import ChatGroq"
   ]
  },
  {
   "cell_type": "code",
   "execution_count": 6,
   "id": "9208b5db",
   "metadata": {},
   "outputs": [],
   "source": [
    "api_key = os.getenv(\"PINECONE_API_KEY\")"
   ]
  },
  {
   "cell_type": "code",
   "execution_count": 7,
   "id": "64f3161f",
   "metadata": {},
   "outputs": [],
   "source": [
    "##Read the Document \n",
    "def read_doc(directory):\n",
    "    file_loader=PyPDFDirectoryLoader(directory)\n",
    "    documents=file_loader.load()\n",
    "    return documents\n"
   ]
  },
  {
   "cell_type": "code",
   "execution_count": 8,
   "id": "e30c6b27",
   "metadata": {},
   "outputs": [
    {
     "data": {
      "text/plain": [
       "1"
      ]
     },
     "execution_count": 8,
     "metadata": {},
     "output_type": "execute_result"
    }
   ],
   "source": [
    "doc=read_doc('uploads/')\n",
    "doc\n",
    "len(doc)"
   ]
  },
  {
   "cell_type": "code",
   "execution_count": 9,
   "id": "d8baf66e",
   "metadata": {},
   "outputs": [],
   "source": [
    "# cHUNKING Of The Data\n",
    "def chunk_data(docs,chunk_size=800,chunk_overlap=80):\n",
    "    text_splitter=RecursiveCharacterTextSplitter(chunk_size=chunk_size,chunk_overlap=chunk_overlap)\n",
    "    chunked_docs=text_splitter.split_documents(docs)\n",
    "    return chunked_docs"
   ]
  },
  {
   "cell_type": "code",
   "execution_count": 10,
   "id": "5026f105",
   "metadata": {},
   "outputs": [
    {
     "data": {
      "text/plain": [
       "[Document(metadata={'source': 'uploads/Eligible Candidates List_Keywords Studios_PMEC_2025 Batch.pdf', 'page': 0}, page_content='SL.NO. CANDIDATE NAME GENDER COURSE STREAM INSTITUTE NAME EMAIL ADDRESS CONTACT NO.\\n1 SUBRAT SETHY Male B.E. / B.TECH CSE PARALA MAHARAJA ENGINEERING COLLEGE subratsethy017@gmail.com 8658132036\\n2 ABHIJIT SAMANT Male B.E. / B.TECH CSE PARALA MAHARAJA ENGINEERING COLLEGE lukshi007@gmail.com 7735099393\\n3 SHUBHAM PRADHAN Male B.E. / B.TECH CSE PARALA MAHARAJA ENGINEERING COLLEGE shubhampradhan813@gmail.com 8770367753\\n4 ABHIJIT MANSINGH Male B.E. / B.TECH CSE PARALA MAHARAJA ENGINEERING COLLEGE abhijitmsing08@gmail.com 8926236278\\n5 AYAN KANUNGO Male B.E. / B.TECH CSE PARALA MAHARAJA ENGINEERING COLLEGE aayankanungo@gmail.com 9437851770\\n6 ANSUMAN SIMANTA SEKHAR BHUJABALA Male B.E. / B.TECH CSE PARALA MAHARAJA ENGINEERING COLLEGE ansumanbhujabal1@gmail.com 8260964834'),\n",
       " Document(metadata={'source': 'uploads/Eligible Candidates List_Keywords Studios_PMEC_2025 Batch.pdf', 'page': 0}, page_content='7 IPSITA NAYAK Female B.E. / B.TECH CSE PARALA MAHARAJA ENGINEERING COLLEGE ipsitanayak590@gmail.com 8926180973\\n8 HIMANSHU MISHRA Male B.E. / B.TECH CSE PARALA MAHARAJA ENGINEERING COLLEGE h1manshum1shra.professional@gmail.com 6372923295\\n9 PRACHI DAS Female B.E. / B.TECH CSE PARALA MAHARAJA ENGINEERING COLLEGE prachidas137@gmail.com 8260879705\\n10 R BASANT KUMAR PRADHAN Male B.E. / B.TECH CSE PARALA MAHARAJA ENGINEERING COLLEGE rbasantkumarpradhan@gmail.com 9778332026\\n11 PRACHI PRAGNYA PADHI Female B.E. / B.TECH CSE PARALA MAHARAJA ENGINEERING COLLEGE prachipragnyapadhi@gmail.com 7853976062\\n12 ASHUTOSH SAHOO Male B.E. / B.TECH CSE PARALA MAHARAJA ENGINEERING COLLEGE ashutoshsahoo76090@gmail.com 7609031580'),\n",
       " Document(metadata={'source': 'uploads/Eligible Candidates List_Keywords Studios_PMEC_2025 Batch.pdf', 'page': 0}, page_content='13 UJJWAL KUMAR ROUT Male B.E. / B.TECH CSE PARALA MAHARAJA ENGINEERING COLLEGE ujjwalkumarr5@gmail.com 7978740370\\n14 DURGADEVI34@GMAIL.COM Female B.E. / B.TECH EACE PARALA MAHARAJA ENGINEERING COLLEGE samantaradurgadevi34@gmail.com 7653912759\\n15 B . RACHANA PATRA Female B.E. / B.TECH ETC PARALA MAHARAJA ENGINEERING COLLEGE rachanapatra07@gmail.com 8260439167\\n16 SUBHAM KUMAR PADHY Male B.E. / B.TECH ETC PARALA MAHARAJA ENGINEERING COLLEGE subhamkumarpadhy14@gmail.com 6370293866\\n17 CHAKRA NARAYANA MISHRA Male B.E. / B.TECH ETC PARALA MAHARAJA ENGINEERING COLLEGE chakramishra6@gmail.com 8260699385\\n18 AKHILESH MISRA Male B.E. / B.TECH ETC PARALA MAHARAJA ENGINEERING COLLEGE akhileshmisra2003@gmail.com 7978485388')]"
      ]
     },
     "execution_count": 10,
     "metadata": {},
     "output_type": "execute_result"
    }
   ],
   "source": [
    "chunked_docs=chunk_data(doc)\n",
    "chunked_docs"
   ]
  },
  {
   "cell_type": "code",
   "execution_count": 11,
   "id": "eb8322b3",
   "metadata": {},
   "outputs": [
    {
     "data": {
      "text/plain": [
       "3"
      ]
     },
     "execution_count": 11,
     "metadata": {},
     "output_type": "execute_result"
    }
   ],
   "source": [
    "len(chunked_docs)"
   ]
  },
  {
   "cell_type": "code",
   "execution_count": 12,
   "id": "c4c1352b",
   "metadata": {},
   "outputs": [],
   "source": [
    "embeddings = HuggingFaceEmbeddings()"
   ]
  },
  {
   "cell_type": "code",
   "execution_count": 13,
   "id": "117671b2",
   "metadata": {},
   "outputs": [
    {
     "data": {
      "text/plain": [
       "11"
      ]
     },
     "execution_count": 13,
     "metadata": {},
     "output_type": "execute_result"
    }
   ],
   "source": [
    "vectors=embeddings.embed_documents(\"How is me ?\")\n",
    "len(vectors)"
   ]
  },
  {
   "cell_type": "code",
   "execution_count": 40,
   "id": "4c269d8a",
   "metadata": {},
   "outputs": [],
   "source": [
    "\n",
    "pc = Pinecone(api_key=api_key)\n"
   ]
  },
  {
   "cell_type": "code",
   "execution_count": 41,
   "id": "ab3243b9",
   "metadata": {},
   "outputs": [
    {
     "name": "stdout",
     "output_type": "stream",
     "text": [
      "['budget']\n"
     ]
    }
   ],
   "source": [
    "\n",
    "index_name=\"budget\"  \n",
    "\n",
    "existing_indexes = [index_info[\"name\"] for index_info in pc.list_indexes()]\n",
    "print(existing_indexes)\n",
    "\n",
    "if index_name not in existing_indexes:\n",
    "    pc.create_index(\n",
    "        name=index_name,\n",
    "        dimension=3072,\n",
    "        metric=\"cosine\",\n",
    "        spec=ServerlessSpec(cloud=\"aws\", region=\"us-east-1\"),\n",
    "    )\n",
    "    while not pc.describe_index(index_name).status[\"ready\"]:\n",
    "        time.sleep(1)\n",
    "        print(\"already\")\n",
    "index = pc.Index(index_name)"
   ]
  },
  {
   "cell_type": "code",
   "execution_count": 35,
   "id": "afddf9b7",
   "metadata": {},
   "outputs": [],
   "source": [
    "index = PineconeVectorStore.from_existing_index(\n",
    "        index_name=index_name,\n",
    "        embedding=embeddings\n",
    "    )"
   ]
  },
  {
   "cell_type": "code",
   "execution_count": 29,
   "id": "f95d4ade",
   "metadata": {},
   "outputs": [],
   "source": [
    "llm = ChatGroq(\n",
    "        model=\"llama-3.1-70b-versatile\",\n",
    "        temperature=0\n",
    "    )\n",
    "chain=load_qa_chain(llm,chain_type=\"stuff\")\n"
   ]
  },
  {
   "cell_type": "code",
   "execution_count": 30,
   "id": "09a0851d",
   "metadata": {},
   "outputs": [],
   "source": [
    "## Cosine Similarity Retreive Results from VectorDB\n",
    "def retrieve_query(query,k=2):\n",
    "    matching_results=index.similarity_search(query,k=k)\n",
    "    return matching_results"
   ]
  },
  {
   "cell_type": "code",
   "execution_count": 31,
   "id": "6a25401c",
   "metadata": {},
   "outputs": [],
   "source": [
    "## Search answers from VectorDB\n",
    "def retrieve_answers(query):\n",
    "    doc_search=retrieve_query(query)\n",
    "    print(doc_search)\n",
    "    response=chain.run(input_documents=doc_search,question=query)\n",
    "    return response"
   ]
  },
  {
   "cell_type": "code",
   "execution_count": 32,
   "id": "74725da9",
   "metadata": {},
   "outputs": [
    {
     "name": "stdout",
     "output_type": "stream",
     "text": [
      "[Document(id='1e94b118-d725-4a6b-a3e0-284ccad33f1a', metadata={'page': 0.0, 'source': 'uploads/Eligible Candidates List_Keywords Studios_PMEC_2025 Batch.pdf'}, page_content='SL.NO. CANDIDATE NAME GENDER COURSE STREAM INSTITUTE NAME EMAIL ADDRESS CONTACT NO.\\n1 SUBRAT SETHY Male B.E. / B.TECH CSE PARALA MAHARAJA ENGINEERING COLLEGE subratsethy017@gmail.com 8658132036\\n2 ABHIJIT SAMANT Male B.E. / B.TECH CSE PARALA MAHARAJA ENGINEERING COLLEGE lukshi007@gmail.com 7735099393\\n3 SHUBHAM PRADHAN Male B.E. / B.TECH CSE PARALA MAHARAJA ENGINEERING COLLEGE shubhampradhan813@gmail.com 8770367753\\n4 ABHIJIT MANSINGH Male B.E. / B.TECH CSE PARALA MAHARAJA ENGINEERING COLLEGE abhijitmsing08@gmail.com 8926236278\\n5 AYAN KANUNGO Male B.E. / B.TECH CSE PARALA MAHARAJA ENGINEERING COLLEGE aayankanungo@gmail.com 9437851770\\n6 ANSUMAN SIMANTA SEKHAR BHUJABALA Male B.E. / B.TECH CSE PARALA MAHARAJA ENGINEERING COLLEGE ansumanbhujabal1@gmail.com 8260964834\\n7 IPSITA NAYAK Female B.E. / B.TECH CSE PARALA MAHARAJA ENGINEERING COLLEGE ipsitanayak590@gmail.com 8926180973\\n8 HIMANSHU MISHRA Male B.E. / B.TECH CSE PARALA MAHARAJA ENGINEERING COLLEGE h1manshum1shra.professional@gmail.com 6372923295\\n9 PRACHI DAS Female B.E. / B.TECH CSE PARALA MAHARAJA ENGINEERING COLLEGE prachidas137@gmail.com 8260879705\\n10 R BASANT KUMAR PRADHAN Male B.E. / B.TECH CSE PARALA MAHARAJA ENGINEERING COLLEGE rbasantkumarpradhan@gmail.com 9778332026\\n11 PRACHI PRAGNYA PADHI Female B.E. / B.TECH CSE PARALA MAHARAJA ENGINEERING COLLEGE prachipragnyapadhi@gmail.com 7853976062\\n12 ASHUTOSH SAHOO Male B.E. / B.TECH CSE PARALA MAHARAJA ENGINEERING COLLEGE ashutoshsahoo76090@gmail.com 7609031580\\n13 UJJWAL KUMAR ROUT Male B.E. / B.TECH CSE PARALA MAHARAJA ENGINEERING COLLEGE ujjwalkumarr5@gmail.com 7978740370\\n14 DURGADEVI34@GMAIL.COM Female B.E. / B.TECH EACE PARALA MAHARAJA ENGINEERING COLLEGE samantaradurgadevi34@gmail.com 7653912759\\n15 B . RACHANA PATRA Female B.E. / B.TECH ETC PARALA MAHARAJA ENGINEERING COLLEGE rachanapatra07@gmail.com 8260439167\\n16 SUBHAM KUMAR PADHY Male B.E. / B.TECH ETC PARALA MAHARAJA ENGINEERING COLLEGE subhamkumarpadhy14@gmail.com 6370293866\\n17 CHAKRA NARAYANA MISHRA Male B.E. / B.TECH ETC PARALA MAHARAJA ENGINEERING COLLEGE chakramishra6@gmail.com 8260699385\\n18 AKHILESH MISRA Male B.E. / B.TECH ETC PARALA MAHARAJA ENGINEERING COLLEGE akhileshmisra2003@gmail.com 7978485388')]\n"
     ]
    },
    {
     "name": "stdout",
     "output_type": "stream",
     "text": [
      "The document appears to be a list of students from Parala Maharaja Engineering College. The list includes the following information about each student:\n",
      "\n",
      "1. Serial number (SL.NO)\n",
      "2. Candidate name\n",
      "3. Gender\n",
      "4. Course (B.E. / B.TECH)\n",
      "5. Stream (CSE, EACE, ETC)\n",
      "6. Institute name (Parala Maharaja Engineering College)\n",
      "7. Email address\n",
      "8. Contact number\n",
      "\n",
      "There are 18 students listed in the document, with 12 males and 6 females. The majority of the students (11) are from the CSE (Computer Science and Engineering) stream, while 6 are from the ETC (Electronics and Telecommunication Engineering) stream, and 1 is from the EACE (Electronics and Communication Engineering) stream.\n"
     ]
    }
   ],
   "source": [
    "our_query = \"Tell me about the document \"\n",
    "answer = retrieve_answers(our_query)\n",
    "print(answer)"
   ]
  },
  {
   "cell_type": "code",
   "execution_count": 33,
   "id": "9b2e90cf",
   "metadata": {},
   "outputs": [
    {
     "name": "stdout",
     "output_type": "stream",
     "text": [
      "[Document(id='1e94b118-d725-4a6b-a3e0-284ccad33f1a', metadata={'page': 0.0, 'source': 'uploads/Eligible Candidates List_Keywords Studios_PMEC_2025 Batch.pdf'}, page_content='SL.NO. CANDIDATE NAME GENDER COURSE STREAM INSTITUTE NAME EMAIL ADDRESS CONTACT NO.\\n1 SUBRAT SETHY Male B.E. / B.TECH CSE PARALA MAHARAJA ENGINEERING COLLEGE subratsethy017@gmail.com 8658132036\\n2 ABHIJIT SAMANT Male B.E. / B.TECH CSE PARALA MAHARAJA ENGINEERING COLLEGE lukshi007@gmail.com 7735099393\\n3 SHUBHAM PRADHAN Male B.E. / B.TECH CSE PARALA MAHARAJA ENGINEERING COLLEGE shubhampradhan813@gmail.com 8770367753\\n4 ABHIJIT MANSINGH Male B.E. / B.TECH CSE PARALA MAHARAJA ENGINEERING COLLEGE abhijitmsing08@gmail.com 8926236278\\n5 AYAN KANUNGO Male B.E. / B.TECH CSE PARALA MAHARAJA ENGINEERING COLLEGE aayankanungo@gmail.com 9437851770\\n6 ANSUMAN SIMANTA SEKHAR BHUJABALA Male B.E. / B.TECH CSE PARALA MAHARAJA ENGINEERING COLLEGE ansumanbhujabal1@gmail.com 8260964834\\n7 IPSITA NAYAK Female B.E. / B.TECH CSE PARALA MAHARAJA ENGINEERING COLLEGE ipsitanayak590@gmail.com 8926180973\\n8 HIMANSHU MISHRA Male B.E. / B.TECH CSE PARALA MAHARAJA ENGINEERING COLLEGE h1manshum1shra.professional@gmail.com 6372923295\\n9 PRACHI DAS Female B.E. / B.TECH CSE PARALA MAHARAJA ENGINEERING COLLEGE prachidas137@gmail.com 8260879705\\n10 R BASANT KUMAR PRADHAN Male B.E. / B.TECH CSE PARALA MAHARAJA ENGINEERING COLLEGE rbasantkumarpradhan@gmail.com 9778332026\\n11 PRACHI PRAGNYA PADHI Female B.E. / B.TECH CSE PARALA MAHARAJA ENGINEERING COLLEGE prachipragnyapadhi@gmail.com 7853976062\\n12 ASHUTOSH SAHOO Male B.E. / B.TECH CSE PARALA MAHARAJA ENGINEERING COLLEGE ashutoshsahoo76090@gmail.com 7609031580\\n13 UJJWAL KUMAR ROUT Male B.E. / B.TECH CSE PARALA MAHARAJA ENGINEERING COLLEGE ujjwalkumarr5@gmail.com 7978740370\\n14 DURGADEVI34@GMAIL.COM Female B.E. / B.TECH EACE PARALA MAHARAJA ENGINEERING COLLEGE samantaradurgadevi34@gmail.com 7653912759\\n15 B . RACHANA PATRA Female B.E. / B.TECH ETC PARALA MAHARAJA ENGINEERING COLLEGE rachanapatra07@gmail.com 8260439167\\n16 SUBHAM KUMAR PADHY Male B.E. / B.TECH ETC PARALA MAHARAJA ENGINEERING COLLEGE subhamkumarpadhy14@gmail.com 6370293866\\n17 CHAKRA NARAYANA MISHRA Male B.E. / B.TECH ETC PARALA MAHARAJA ENGINEERING COLLEGE chakramishra6@gmail.com 8260699385\\n18 AKHILESH MISRA Male B.E. / B.TECH ETC PARALA MAHARAJA ENGINEERING COLLEGE akhileshmisra2003@gmail.com 7978485388')]\n"
     ]
    },
    {
     "name": "stdout",
     "output_type": "stream",
     "text": [
      "According to the provided information, ANSUMAN SIMANTA SEKHAR BHUJABALA is a male student. He is pursuing a B.E. / B.TECH degree in the Computer Science and Engineering (CSE) stream at PARALA MAHARAJA ENGINEERING COLLEGE. His contact details are:\n",
      "\n",
      "Email: ansumanbhujabal1@gmail.com\n",
      "Contact Number: 8260964834\n"
     ]
    }
   ],
   "source": [
    "our_query = \"Tell me  about the student ANSUMAN  \"\n",
    "answer = retrieve_answers(our_query)\n",
    "print(answer)"
   ]
  },
  {
   "cell_type": "code",
   "execution_count": null,
   "id": "30880c49",
   "metadata": {},
   "outputs": [],
   "source": []
  }
 ],
 "metadata": {
  "kernelspec": {
   "display_name": "cloudspace",
   "language": "python",
   "name": "python3"
  },
  "language_info": {
   "codemirror_mode": {
    "name": "ipython",
    "version": 3
   },
   "file_extension": ".py",
   "mimetype": "text/x-python",
   "name": "python",
   "nbconvert_exporter": "python",
   "pygments_lexer": "ipython3",
   "version": "3.10.10"
  }
 },
 "nbformat": 4,
 "nbformat_minor": 5
}
